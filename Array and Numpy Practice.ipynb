{
 "cells": [
  {
   "cell_type": "code",
   "execution_count": 2,
   "id": "73897408",
   "metadata": {},
   "outputs": [],
   "source": [
    "import numpy as np"
   ]
  },
  {
   "cell_type": "code",
   "execution_count": 2,
   "id": "0873e864",
   "metadata": {},
   "outputs": [],
   "source": [
    "lst1  = [1234, 4567, 1343, 1224, 1454]"
   ]
  },
  {
   "cell_type": "code",
   "execution_count": 3,
   "id": "6e618e83",
   "metadata": {},
   "outputs": [
    {
     "name": "stdout",
     "output_type": "stream",
     "text": [
      "<class 'numpy.ndarray'>\n",
      "[1234 4567 1343 1224 1454]\n"
     ]
    }
   ],
   "source": [
    "arr = np.array(lst1)\n",
    "print(type(arr))\n",
    "print(arr)"
   ]
  },
  {
   "cell_type": "code",
   "execution_count": 4,
   "id": "996fd48c",
   "metadata": {},
   "outputs": [
    {
     "name": "stdout",
     "output_type": "stream",
     "text": [
      "(5,)\n"
     ]
    }
   ],
   "source": [
    "print(arr.shape)"
   ]
  },
  {
   "cell_type": "code",
   "execution_count": 5,
   "id": "fcccacc1",
   "metadata": {},
   "outputs": [
    {
     "name": "stdout",
     "output_type": "stream",
     "text": [
      "<class 'numpy.ndarray'>\n",
      "[[534 543 874 125 812]\n",
      " [453 325 264 258 287]\n",
      " [998 894 345 248 934]]\n"
     ]
    }
   ],
   "source": [
    "list1 = [534, 543, 874, 125, 812]\n",
    "list2 = [453, 325, 264, 258, 287]\n",
    "list3 = [998, 894, 345, 248, 934]\n",
    "\n",
    "\n",
    "arr1 = np.array([list1, list2, list3])\n",
    "\n",
    "print(type(arr1))\n",
    "print(arr1)"
   ]
  },
  {
   "cell_type": "code",
   "execution_count": 6,
   "id": "182cd05d",
   "metadata": {},
   "outputs": [
    {
     "name": "stdout",
     "output_type": "stream",
     "text": [
      "(3, 5)\n"
     ]
    }
   ],
   "source": [
    "print(arr1.shape)"
   ]
  },
  {
   "cell_type": "code",
   "execution_count": 7,
   "id": "7cbf3df5",
   "metadata": {},
   "outputs": [
    {
     "data": {
      "text/plain": [
       "array([[534, 543, 874],\n",
       "       [125, 812, 453],\n",
       "       [325, 264, 258],\n",
       "       [287, 998, 894],\n",
       "       [345, 248, 934]])"
      ]
     },
     "execution_count": 7,
     "metadata": {},
     "output_type": "execute_result"
    }
   ],
   "source": [
    "arr1.reshape(5,3)"
   ]
  },
  {
   "cell_type": "code",
   "execution_count": 8,
   "id": "98974917",
   "metadata": {},
   "outputs": [],
   "source": [
    "import array"
   ]
  },
  {
   "cell_type": "code",
   "execution_count": 9,
   "id": "31e370c2",
   "metadata": {},
   "outputs": [
    {
     "name": "stdout",
     "output_type": "stream",
     "text": [
      "103\n"
     ]
    }
   ],
   "source": [
    "arr = array.array('i', [101,102,103,104,105])\n",
    "print(arr[2])"
   ]
  },
  {
   "cell_type": "code",
   "execution_count": 10,
   "id": "f41c6008",
   "metadata": {},
   "outputs": [
    {
     "name": "stdout",
     "output_type": "stream",
     "text": [
      "101\n",
      "102\n",
      "103\n",
      "104\n",
      "105\n"
     ]
    }
   ],
   "source": [
    "for i in arr:\n",
    "    print(i)"
   ]
  },
  {
   "cell_type": "code",
   "execution_count": 11,
   "id": "541295f4",
   "metadata": {},
   "outputs": [
    {
     "name": "stdout",
     "output_type": "stream",
     "text": [
      "Index no: 0 Element: 101\n",
      "Index no: 1 Element: 102\n",
      "Index no: 2 Element: 103\n",
      "Index no: 3 Element: 104\n",
      "Index no: 4 Element: 105\n"
     ]
    }
   ],
   "source": [
    "for i in range(len(arr)):\n",
    "    print('Index no:', i,'Element:', arr[i])"
   ]
  },
  {
   "cell_type": "code",
   "execution_count": 12,
   "id": "da32aef4",
   "metadata": {},
   "outputs": [
    {
     "name": "stdout",
     "output_type": "stream",
     "text": [
      "101\n",
      "102\n",
      "103\n",
      "104\n",
      "105\n"
     ]
    }
   ],
   "source": [
    "n = len(arr)\n",
    "i = 0\n",
    "while i<n:\n",
    "    print(arr[i])\n",
    "    i += 1"
   ]
  },
  {
   "cell_type": "code",
   "execution_count": 13,
   "id": "3ee42c61",
   "metadata": {},
   "outputs": [
    {
     "name": "stdout",
     "output_type": "stream",
     "text": [
      "array('i', [101, 102, 103, 104, 105, 106])\n"
     ]
    }
   ],
   "source": [
    "arr.append(106)\n",
    "print(arr)"
   ]
  },
  {
   "cell_type": "code",
   "execution_count": 14,
   "id": "8b99a3bf",
   "metadata": {},
   "outputs": [
    {
     "name": "stdout",
     "output_type": "stream",
     "text": [
      "Enter the no. of elements: 3\n",
      "Enter the elements: 101\n",
      "Enter the elements: 102\n",
      "Enter the elements: 103\n",
      "Your Final Array is: array('i', [101, 102, 103])\n"
     ]
    }
   ],
   "source": [
    "arr1 = array.array('i', [])\n",
    "\n",
    "n = int(input(\"Enter the no. of elements: \"))\n",
    "\n",
    "for i in range(n):\n",
    "    e = int(input(\"Enter the elements: \"))\n",
    "    arr1.append(e)\n",
    "\n",
    "print(\"Your Final Array is:\", arr1)"
   ]
  },
  {
   "cell_type": "code",
   "execution_count": 15,
   "id": "c3420177",
   "metadata": {},
   "outputs": [
    {
     "name": "stdout",
     "output_type": "stream",
     "text": [
      "Enter the no. of elements: 3\n",
      "Enter the element: 101\n",
      "Enter the element: 10203\n",
      "Enter the element: 102\n",
      "Your Final Array is: array('i', [101, 102, 103, 101, 10203, 102])\n"
     ]
    }
   ],
   "source": [
    "n = int(input(\"Enter the no. of elements: \"))\n",
    "\n",
    "i = 0\n",
    "while i < n:\n",
    "    e = int(input(\"Enter the element: \"))\n",
    "    arr1.append(e)\n",
    "    i += 1\n",
    "    \n",
    "print(\"Your Final Array is:\", arr1)"
   ]
  },
  {
   "cell_type": "code",
   "execution_count": 16,
   "id": "7e93e1f3",
   "metadata": {},
   "outputs": [
    {
     "name": "stdout",
     "output_type": "stream",
     "text": [
      "Index no: 0 Element: 101\n",
      "Index no: 1 Element: 102\n",
      "Index no: 2 Element: 103\n",
      "Index no: 3 Element: 104\n",
      "Index no: 4 Element: 105\n"
     ]
    }
   ],
   "source": [
    "nparr = np.array([101,102,103,104,105])\n",
    "\n",
    "for i in range(len(nparr)):\n",
    "    print('Index no:', i,'Element:', nparr[i])"
   ]
  },
  {
   "cell_type": "code",
   "execution_count": 17,
   "id": "44d9d8bf",
   "metadata": {},
   "outputs": [
    {
     "name": "stdout",
     "output_type": "stream",
     "text": [
      "[ 1  3  5  7 10]\n"
     ]
    }
   ],
   "source": [
    "lsarr = np.linspace(1, 10, 5, dtype='int')\n",
    "print(lsarr)"
   ]
  },
  {
   "cell_type": "code",
   "execution_count": 20,
   "id": "50001d8f",
   "metadata": {},
   "outputs": [
    {
     "name": "stdout",
     "output_type": "stream",
     "text": [
      "Enter no. of elements: 5\n",
      "Enter the element: 101\n",
      "Enter the element: 102\n",
      "Enter the element: 103\n",
      "Enter the element: 104\n",
      "Enter the element: 105\n",
      "Your array is:  [101 102 103 104 105]\n"
     ]
    }
   ],
   "source": [
    "narr = np.zeros(n, dtype=int)\n",
    "x = int(input(\"Enter no. of elements: \"))\n",
    "\n",
    "for i in range(x):\n",
    "    e = int(input(\"Enter the element: \"))\n",
    "    narr[i] = e\n",
    "\n",
    "print(\"Your array is: \", narr)"
   ]
  },
  {
   "cell_type": "code",
   "execution_count": 3,
   "id": "99179c1c",
   "metadata": {},
   "outputs": [
    {
     "name": "stdout",
     "output_type": "stream",
     "text": [
      "[2 4 6 8]\n"
     ]
    }
   ],
   "source": [
    "a = np.array([1,2,3,4])\n",
    "b = np.array([1,2,3,4])\n",
    "\n",
    "c = a+b\n",
    "print(c)"
   ]
  },
  {
   "cell_type": "code",
   "execution_count": 4,
   "id": "c5f57274",
   "metadata": {},
   "outputs": [
    {
     "name": "stdout",
     "output_type": "stream",
     "text": [
      "[0 0 0 0]\n"
     ]
    }
   ],
   "source": [
    "a = np.array([1,2,3,4])\n",
    "b = np.array([1,2,3,4])\n",
    "\n",
    "c = a-b\n",
    "print(c)"
   ]
  },
  {
   "cell_type": "code",
   "execution_count": 5,
   "id": "1504c782",
   "metadata": {},
   "outputs": [
    {
     "name": "stdout",
     "output_type": "stream",
     "text": [
      "[ 1  4  9 16]\n"
     ]
    }
   ],
   "source": [
    "a = np.array([1,2,3,4])\n",
    "b = np.array([1,2,3,4])\n",
    "\n",
    "c = a*b\n",
    "print(c)"
   ]
  },
  {
   "cell_type": "code",
   "execution_count": null,
   "id": "be1afad7",
   "metadata": {},
   "outputs": [],
   "source": []
  }
 ],
 "metadata": {
  "kernelspec": {
   "display_name": "Python 3 (ipykernel)",
   "language": "python",
   "name": "python3"
  },
  "language_info": {
   "codemirror_mode": {
    "name": "ipython",
    "version": 3
   },
   "file_extension": ".py",
   "mimetype": "text/x-python",
   "name": "python",
   "nbconvert_exporter": "python",
   "pygments_lexer": "ipython3",
   "version": "3.9.6"
  }
 },
 "nbformat": 4,
 "nbformat_minor": 5
}
