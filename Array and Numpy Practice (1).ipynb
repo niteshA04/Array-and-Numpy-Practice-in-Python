{
 "cells": [
  {
   "cell_type": "code",
   "execution_count": 1,
   "id": "73897408",
   "metadata": {},
   "outputs": [],
   "source": [
    "import numpy as np"
   ]
  },
  {
   "cell_type": "code",
   "execution_count": 2,
   "id": "0873e864",
   "metadata": {},
   "outputs": [],
   "source": [
    "lst1  = [1234, 4567, 1343, 1224, 1454]"
   ]
  },
  {
   "cell_type": "code",
   "execution_count": 3,
   "id": "6e618e83",
   "metadata": {},
   "outputs": [
    {
     "name": "stdout",
     "output_type": "stream",
     "text": [
      "<class 'numpy.ndarray'>\n",
      "[1234 4567 1343 1224 1454]\n"
     ]
    }
   ],
   "source": [
    "arr = np.array(lst1)\n",
    "print(type(arr))\n",
    "print(arr)"
   ]
  },
  {
   "cell_type": "code",
   "execution_count": 4,
   "id": "996fd48c",
   "metadata": {},
   "outputs": [
    {
     "name": "stdout",
     "output_type": "stream",
     "text": [
      "(5,)\n"
     ]
    }
   ],
   "source": [
    "print(arr.shape)"
   ]
  },
  {
   "cell_type": "code",
   "execution_count": 5,
   "id": "fcccacc1",
   "metadata": {},
   "outputs": [
    {
     "name": "stdout",
     "output_type": "stream",
     "text": [
      "<class 'numpy.ndarray'>\n",
      "[[534 543 874 125 812]\n",
      " [453 325 264 258 287]\n",
      " [998 894 345 248 934]]\n"
     ]
    }
   ],
   "source": [
    "list1 = [534, 543, 874, 125, 812]\n",
    "list2 = [453, 325, 264, 258, 287]\n",
    "list3 = [998, 894, 345, 248, 934]\n",
    "\n",
    "\n",
    "arr1 = np.array([list1, list2, list3])\n",
    "\n",
    "print(type(arr1))\n",
    "print(arr1)"
   ]
  },
  {
   "cell_type": "code",
   "execution_count": 6,
   "id": "182cd05d",
   "metadata": {},
   "outputs": [
    {
     "name": "stdout",
     "output_type": "stream",
     "text": [
      "(3, 5)\n"
     ]
    }
   ],
   "source": [
    "print(arr1.shape)"
   ]
  },
  {
   "cell_type": "code",
   "execution_count": 7,
   "id": "7cbf3df5",
   "metadata": {},
   "outputs": [
    {
     "data": {
      "text/plain": [
       "array([[534, 543, 874],\n",
       "       [125, 812, 453],\n",
       "       [325, 264, 258],\n",
       "       [287, 998, 894],\n",
       "       [345, 248, 934]])"
      ]
     },
     "execution_count": 7,
     "metadata": {},
     "output_type": "execute_result"
    }
   ],
   "source": [
    "arr1.reshape(5,3)"
   ]
  },
  {
   "cell_type": "code",
   "execution_count": 8,
   "id": "98974917",
   "metadata": {},
   "outputs": [],
   "source": [
    "import array"
   ]
  },
  {
   "cell_type": "code",
   "execution_count": 9,
   "id": "31e370c2",
   "metadata": {},
   "outputs": [
    {
     "name": "stdout",
     "output_type": "stream",
     "text": [
      "103\n"
     ]
    }
   ],
   "source": [
    "arr = array.array('i', [101,102,103,104,105])\n",
    "print(arr[2])"
   ]
  },
  {
   "cell_type": "code",
   "execution_count": 10,
   "id": "f41c6008",
   "metadata": {},
   "outputs": [
    {
     "name": "stdout",
     "output_type": "stream",
     "text": [
      "101\n",
      "102\n",
      "103\n",
      "104\n",
      "105\n"
     ]
    }
   ],
   "source": [
    "for i in arr:\n",
    "    print(i)"
   ]
  },
  {
   "cell_type": "code",
   "execution_count": 11,
   "id": "541295f4",
   "metadata": {},
   "outputs": [
    {
     "name": "stdout",
     "output_type": "stream",
     "text": [
      "Index no: 0 Element: 101\n",
      "Index no: 1 Element: 102\n",
      "Index no: 2 Element: 103\n",
      "Index no: 3 Element: 104\n",
      "Index no: 4 Element: 105\n"
     ]
    }
   ],
   "source": [
    "for i in range(len(arr)):\n",
    "    print('Index no:', i,'Element:', arr[i])"
   ]
  },
  {
   "cell_type": "code",
   "execution_count": 12,
   "id": "da32aef4",
   "metadata": {},
   "outputs": [
    {
     "name": "stdout",
     "output_type": "stream",
     "text": [
      "101\n",
      "102\n",
      "103\n",
      "104\n",
      "105\n"
     ]
    }
   ],
   "source": [
    "n = len(arr)\n",
    "i = 0\n",
    "while i<n:\n",
    "    print(arr[i])\n",
    "    i += 1"
   ]
  },
  {
   "cell_type": "code",
   "execution_count": 13,
   "id": "3ee42c61",
   "metadata": {},
   "outputs": [
    {
     "name": "stdout",
     "output_type": "stream",
     "text": [
      "array('i', [101, 102, 103, 104, 105, 106])\n"
     ]
    }
   ],
   "source": [
    "arr.append(106)\n",
    "print(arr)"
   ]
  },
  {
   "cell_type": "code",
   "execution_count": 14,
   "id": "8b99a3bf",
   "metadata": {},
   "outputs": [
    {
     "name": "stdout",
     "output_type": "stream",
     "text": [
      "Enter the no. of elements: 5\n",
      "Enter the elements: 101\n",
      "Enter the elements: 102\n",
      "Enter the elements: 103\n",
      "Enter the elements: 104\n",
      "Enter the elements: 105\n",
      "Your Final Array is: array('i', [101, 102, 103, 104, 105])\n"
     ]
    }
   ],
   "source": [
    "arr1 = array.array('i', [])\n",
    "\n",
    "n = int(input(\"Enter the no. of elements: \"))\n",
    "\n",
    "for i in range(n):\n",
    "    e = int(input(\"Enter the elements: \"))\n",
    "    arr1.append(e)\n",
    "\n",
    "print(\"Your Final Array is:\", arr1)"
   ]
  },
  {
   "cell_type": "code",
   "execution_count": 15,
   "id": "c3420177",
   "metadata": {},
   "outputs": [
    {
     "name": "stdout",
     "output_type": "stream",
     "text": [
      "Enter the no. of elements: 5\n",
      "Enter the element: 101\n",
      "Enter the element: 102\n",
      "Enter the element: 103\n",
      "Enter the element: 104\n",
      "Enter the element: 105\n",
      "Your Final Array is: array('i', [101, 102, 103, 104, 105, 101, 102, 103, 104, 105])\n"
     ]
    }
   ],
   "source": [
    "n = int(input(\"Enter the no. of elements: \"))\n",
    "\n",
    "i = 0\n",
    "while i < n:\n",
    "    e = int(input(\"Enter the element: \"))\n",
    "    arr1.append(e)\n",
    "    i += 1\n",
    "    \n",
    "print(\"Your Final Array is:\", arr1)"
   ]
  },
  {
   "cell_type": "code",
   "execution_count": 16,
   "id": "7e93e1f3",
   "metadata": {},
   "outputs": [
    {
     "name": "stdout",
     "output_type": "stream",
     "text": [
      "Index no: 0 Element: 101\n",
      "Index no: 1 Element: 102\n",
      "Index no: 2 Element: 103\n",
      "Index no: 3 Element: 104\n",
      "Index no: 4 Element: 105\n"
     ]
    }
   ],
   "source": [
    "nparr = np.array([101,102,103,104,105])\n",
    "\n",
    "for i in range(len(nparr)):\n",
    "    print('Index no:', i,'Element:', nparr[i])"
   ]
  },
  {
   "cell_type": "code",
   "execution_count": 17,
   "id": "44d9d8bf",
   "metadata": {},
   "outputs": [
    {
     "name": "stdout",
     "output_type": "stream",
     "text": [
      "[ 1  3  5  7 10]\n"
     ]
    }
   ],
   "source": [
    "lsarr = np.linspace(1, 10, 5, dtype='int')\n",
    "print(lsarr)"
   ]
  },
  {
   "cell_type": "code",
   "execution_count": 18,
   "id": "50001d8f",
   "metadata": {},
   "outputs": [
    {
     "name": "stdout",
     "output_type": "stream",
     "text": [
      "Enter no. of elements: 5\n",
      "Enter the element: 101\n",
      "Enter the element: 102\n",
      "Enter the element: 103\n",
      "Enter the element: 104\n",
      "Enter the element: 105\n",
      "Your array is:  [101 102 103 104 105]\n"
     ]
    }
   ],
   "source": [
    "narr = np.zeros(n, dtype=int)\n",
    "x = int(input(\"Enter no. of elements: \"))\n",
    "\n",
    "for i in range(x):\n",
    "    e = int(input(\"Enter the element: \"))\n",
    "    narr[i] = e\n",
    "\n",
    "print(\"Your array is: \", narr)"
   ]
  },
  {
   "cell_type": "code",
   "execution_count": 19,
   "id": "99179c1c",
   "metadata": {},
   "outputs": [
    {
     "name": "stdout",
     "output_type": "stream",
     "text": [
      "[2 4 6 8]\n"
     ]
    }
   ],
   "source": [
    "a = np.array([1,2,3,4])\n",
    "b = np.array([1,2,3,4])\n",
    "\n",
    "c = a+b\n",
    "print(c)"
   ]
  },
  {
   "cell_type": "code",
   "execution_count": 20,
   "id": "c5f57274",
   "metadata": {},
   "outputs": [
    {
     "name": "stdout",
     "output_type": "stream",
     "text": [
      "[0 0 0 0]\n"
     ]
    }
   ],
   "source": [
    "a = np.array([1,2,3,4])\n",
    "b = np.array([1,2,3,4])\n",
    "\n",
    "c = a-b\n",
    "print(c)"
   ]
  },
  {
   "cell_type": "code",
   "execution_count": 21,
   "id": "1504c782",
   "metadata": {},
   "outputs": [
    {
     "name": "stdout",
     "output_type": "stream",
     "text": [
      "[ 1  4  9 16]\n"
     ]
    }
   ],
   "source": [
    "a = np.array([1,2,3,4])\n",
    "b = np.array([1,2,3,4])\n",
    "\n",
    "c = a*b\n",
    "print(c)"
   ]
  },
  {
   "cell_type": "code",
   "execution_count": 22,
   "id": "be1afad7",
   "metadata": {},
   "outputs": [
    {
     "data": {
      "text/plain": [
       "array([[ 1,  2,  3],\n",
       "       [ 4,  5,  6],\n",
       "       [ 7,  8,  9],\n",
       "       [10, 11, 12]])"
      ]
     },
     "execution_count": 22,
     "metadata": {},
     "output_type": "execute_result"
    }
   ],
   "source": [
    "nparray = np.array([[1,2,3],[4,5.,6],[7,8,9],[10,11,12]], dtype='int')\n",
    "nparray"
   ]
  },
  {
   "cell_type": "code",
   "execution_count": 23,
   "id": "dfe94284",
   "metadata": {},
   "outputs": [
    {
     "data": {
      "text/plain": [
       "12"
      ]
     },
     "execution_count": 23,
     "metadata": {},
     "output_type": "execute_result"
    }
   ],
   "source": [
    "nparray.size"
   ]
  },
  {
   "cell_type": "code",
   "execution_count": 24,
   "id": "ef929cc8",
   "metadata": {},
   "outputs": [
    {
     "data": {
      "text/plain": [
       "array([[ 1,  2,  3,  4],\n",
       "       [ 5,  6,  7,  8],\n",
       "       [ 9, 10, 11, 12]])"
      ]
     },
     "execution_count": 24,
     "metadata": {},
     "output_type": "execute_result"
    }
   ],
   "source": [
    "nparray.reshape(3,4)"
   ]
  },
  {
   "cell_type": "code",
   "execution_count": 25,
   "id": "55af14b8",
   "metadata": {},
   "outputs": [
    {
     "data": {
      "text/plain": [
       "array([[ 1,  2,  3,  4,  5,  6,  7,  8,  9, 10, 11, 12]])"
      ]
     },
     "execution_count": 25,
     "metadata": {},
     "output_type": "execute_result"
    }
   ],
   "source": [
    "nparray.reshape(1,12)"
   ]
  },
  {
   "cell_type": "code",
   "execution_count": 26,
   "id": "4835d5f8",
   "metadata": {},
   "outputs": [
    {
     "data": {
      "text/plain": [
       "array([[ 1],\n",
       "       [ 2],\n",
       "       [ 3],\n",
       "       [ 4],\n",
       "       [ 5],\n",
       "       [ 6],\n",
       "       [ 7],\n",
       "       [ 8],\n",
       "       [ 9],\n",
       "       [10],\n",
       "       [11],\n",
       "       [12]])"
      ]
     },
     "execution_count": 26,
     "metadata": {},
     "output_type": "execute_result"
    }
   ],
   "source": [
    "nparray.reshape(12,1)"
   ]
  },
  {
   "cell_type": "code",
   "execution_count": 27,
   "id": "5c8f6789",
   "metadata": {},
   "outputs": [
    {
     "data": {
      "text/plain": [
       "array([[ 1,  4,  7, 10],\n",
       "       [ 2,  5,  8, 11],\n",
       "       [ 3,  6,  9, 12]])"
      ]
     },
     "execution_count": 27,
     "metadata": {},
     "output_type": "execute_result"
    }
   ],
   "source": [
    "nparray.T"
   ]
  },
  {
   "cell_type": "code",
   "execution_count": 28,
   "id": "4edfbd09",
   "metadata": {},
   "outputs": [
    {
     "data": {
      "text/plain": [
       "array([[ 1,  2,  3,  4],\n",
       "       [ 5,  6,  7,  8],\n",
       "       [ 9, 10, 11, 12],\n",
       "       [13, 14, 15, 16]])"
      ]
     },
     "execution_count": 28,
     "metadata": {},
     "output_type": "execute_result"
    }
   ],
   "source": [
    "array_1 = np.array([[1,2,3,4],[5,6,7,8],[9,10,11,12],[13,14,15,16]])\n",
    "array_1"
   ]
  },
  {
   "cell_type": "code",
   "execution_count": 29,
   "id": "9fb24c8b",
   "metadata": {},
   "outputs": [
    {
     "data": {
      "text/plain": [
       "array([[ 1,  2,  3,  4,  5,  6,  7,  8],\n",
       "       [ 9, 10, 11, 12, 13, 14, 15, 16]])"
      ]
     },
     "execution_count": 29,
     "metadata": {},
     "output_type": "execute_result"
    }
   ],
   "source": [
    "array_a = array_1.reshape(2,8)\n",
    "array_a"
   ]
  },
  {
   "cell_type": "code",
   "execution_count": 30,
   "id": "560eac73",
   "metadata": {},
   "outputs": [
    {
     "data": {
      "text/plain": [
       "array([[ 1,  5,  9, 13],\n",
       "       [ 2,  6, 10, 14],\n",
       "       [ 3,  7, 11, 15],\n",
       "       [ 4,  8, 12, 16]])"
      ]
     },
     "execution_count": 30,
     "metadata": {},
     "output_type": "execute_result"
    }
   ],
   "source": [
    "array_1.T"
   ]
  },
  {
   "cell_type": "code",
   "execution_count": 31,
   "id": "d305cad8",
   "metadata": {},
   "outputs": [
    {
     "name": "stdout",
     "output_type": "stream",
     "text": [
      "4\n",
      "11\n",
      "4\n",
      "11\n"
     ]
    }
   ],
   "source": [
    "print(array_1[0,3])\n",
    "print(array_1[2,2])\n",
    "print(array_1[0,-1])\n",
    "print(array_1[2,-2])"
   ]
  },
  {
   "cell_type": "code",
   "execution_count": 32,
   "id": "fbc5d955",
   "metadata": {},
   "outputs": [
    {
     "name": "stdout",
     "output_type": "stream",
     "text": [
      "[ 2  6 10 14]\n"
     ]
    }
   ],
   "source": [
    "print(array_1[:,1])"
   ]
  },
  {
   "cell_type": "code",
   "execution_count": 33,
   "id": "9f658d27",
   "metadata": {},
   "outputs": [
    {
     "data": {
      "text/plain": [
       "array([[0., 0., 0.],\n",
       "       [0., 0., 0.],\n",
       "       [0., 0., 0.]])"
      ]
     },
     "execution_count": 33,
     "metadata": {},
     "output_type": "execute_result"
    }
   ],
   "source": [
    "array_2 = np.zeros((3,3))\n",
    "array_2"
   ]
  },
  {
   "cell_type": "code",
   "execution_count": 34,
   "id": "a08012da",
   "metadata": {},
   "outputs": [
    {
     "data": {
      "text/plain": [
       "array([[1., 1., 1.],\n",
       "       [1., 1., 1.],\n",
       "       [1., 1., 1.]])"
      ]
     },
     "execution_count": 34,
     "metadata": {},
     "output_type": "execute_result"
    }
   ],
   "source": [
    "arr1 = np.ones((3,3))\n",
    "arr1"
   ]
  },
  {
   "cell_type": "code",
   "execution_count": 35,
   "id": "82c0970b",
   "metadata": {},
   "outputs": [
    {
     "data": {
      "text/plain": [
       "array([[5, 5, 5],\n",
       "       [5, 5, 5],\n",
       "       [5, 5, 5]])"
      ]
     },
     "execution_count": 35,
     "metadata": {},
     "output_type": "execute_result"
    }
   ],
   "source": [
    "arr2 = np.full((3,3),5)\n",
    "arr2"
   ]
  },
  {
   "cell_type": "code",
   "execution_count": 36,
   "id": "9fccf584",
   "metadata": {},
   "outputs": [
    {
     "data": {
      "text/plain": [
       "array([[0.9427152 , 0.23885311, 0.65975185],\n",
       "       [0.9051284 , 0.5991006 , 0.56765913],\n",
       "       [0.7800897 , 0.76614599, 0.63046915]])"
      ]
     },
     "execution_count": 36,
     "metadata": {},
     "output_type": "execute_result"
    }
   ],
   "source": [
    "arr3 = np.random.random((3,3))\n",
    "arr3"
   ]
  },
  {
   "cell_type": "code",
   "execution_count": 37,
   "id": "378b7954",
   "metadata": {},
   "outputs": [],
   "source": [
    "row_1 = [1,2,3,4,5]\n",
    "row_2 = [6,7,8,9,10]\n",
    "row_3 = [11,12,13,14,15]\n",
    "row_4 = [16,17,18,19,20]\n",
    "row_5 = [21,22,23,24,25]"
   ]
  },
  {
   "cell_type": "code",
   "execution_count": 38,
   "id": "0668add8",
   "metadata": {},
   "outputs": [
    {
     "data": {
      "text/plain": [
       "array([[ 1,  2,  3,  4,  5],\n",
       "       [ 6,  7,  8,  9, 10],\n",
       "       [11, 12, 13, 14, 15],\n",
       "       [16, 17, 18, 19, 20],\n",
       "       [21, 22, 23, 24, 25]])"
      ]
     },
     "execution_count": 38,
     "metadata": {},
     "output_type": "execute_result"
    }
   ],
   "source": [
    "arr_a = np.array([row_1,row_2,row_3,row_4,row_5])\n",
    "arr_a"
   ]
  },
  {
   "cell_type": "code",
   "execution_count": 39,
   "id": "e41bebd8",
   "metadata": {},
   "outputs": [
    {
     "name": "stdout",
     "output_type": "stream",
     "text": [
      "[[ 3  4]\n",
      " [ 8  9]\n",
      " [13 14]\n",
      " [18 19]\n",
      " [23 24]]\n"
     ]
    }
   ],
   "source": [
    "print(arr_a[:,2:4])"
   ]
  },
  {
   "cell_type": "code",
   "execution_count": 40,
   "id": "ec2d801a",
   "metadata": {},
   "outputs": [
    {
     "data": {
      "text/plain": [
       "array([[False, False, False, False, False],\n",
       "       [False, False, False, False, False],\n",
       "       [ True,  True,  True,  True,  True],\n",
       "       [ True,  True,  True,  True,  True],\n",
       "       [ True,  True,  True,  True,  True]])"
      ]
     },
     "execution_count": 40,
     "metadata": {},
     "output_type": "execute_result"
    }
   ],
   "source": [
    "greater_than_ten = arr_a > 10\n",
    "greater_than_ten"
   ]
  },
  {
   "cell_type": "code",
   "execution_count": 41,
   "id": "377daa04",
   "metadata": {},
   "outputs": [
    {
     "name": "stdout",
     "output_type": "stream",
     "text": [
      "[11 12 13 14 15 16 17 18 19 20 21 22 23 24 25]\n"
     ]
    }
   ],
   "source": [
    "print(arr_a[greater_than_ten])"
   ]
  },
  {
   "cell_type": "code",
   "execution_count": 42,
   "id": "a9758ca4",
   "metadata": {},
   "outputs": [
    {
     "data": {
      "text/plain": [
       "array([[ 0,  0,  0,  0,  0],\n",
       "       [ 0,  0,  0,  0,  0],\n",
       "       [11, 12, 13, 14, 15],\n",
       "       [16, 17, 18, 19, 20],\n",
       "       [21, 22, 23, 24, 25]])"
      ]
     },
     "execution_count": 42,
     "metadata": {},
     "output_type": "execute_result"
    }
   ],
   "source": [
    "drop_under_10 = np.where(arr_a > 10, arr_a, 0)\n",
    "drop_under_10"
   ]
  },
  {
   "cell_type": "code",
   "execution_count": 43,
   "id": "179170cc",
   "metadata": {},
   "outputs": [
    {
     "data": {
      "text/plain": [
       "array([[False, False, False, False, False],\n",
       "       [False, False, False, False, False],\n",
       "       [ True,  True,  True,  True,  True],\n",
       "       [ True,  True,  True,  True, False],\n",
       "       [False, False, False, False, False]])"
      ]
     },
     "execution_count": 43,
     "metadata": {},
     "output_type": "execute_result"
    }
   ],
   "source": [
    "drop_under_10_and_20 = np.logical_and(arr_a > 10, arr_a < 20)\n",
    "drop_under_10_and_20"
   ]
  },
  {
   "cell_type": "code",
   "execution_count": 44,
   "id": "ee75d804",
   "metadata": {},
   "outputs": [
    {
     "name": "stdout",
     "output_type": "stream",
     "text": [
      "[11 12 13 14 15 16 17 18 19]\n"
     ]
    }
   ],
   "source": [
    "print(arr_a[drop_under_10_and_20])"
   ]
  },
  {
   "cell_type": "code",
   "execution_count": 45,
   "id": "bf39c813",
   "metadata": {},
   "outputs": [
    {
     "data": {
      "text/plain": [
       "array([ 0,  5, 10, 15, 20, 25, 30, 35, 40, 45, 50, 55, 60, 65, 70, 75, 80,\n",
       "       85, 90, 95])"
      ]
     },
     "execution_count": 45,
     "metadata": {},
     "output_type": "execute_result"
    }
   ],
   "source": [
    "sam_arr = np.arange(0, 100, 5)\n",
    "sam_arr"
   ]
  },
  {
   "cell_type": "code",
   "execution_count": 46,
   "id": "d9cd1361",
   "metadata": {},
   "outputs": [
    {
     "name": "stdout",
     "output_type": "stream",
     "text": [
      "20\n"
     ]
    },
    {
     "data": {
      "text/plain": [
       "array([[ 0,  5, 10, 15, 20],\n",
       "       [25, 30, 35, 40, 45],\n",
       "       [50, 55, 60, 65, 70],\n",
       "       [75, 80, 85, 90, 95]])"
      ]
     },
     "execution_count": 46,
     "metadata": {},
     "output_type": "execute_result"
    }
   ],
   "source": [
    "print(sam_arr.size)\n",
    "sam_arr_reshape = sam_arr.reshape((4,5))\n",
    "sam_arr_reshape"
   ]
  },
  {
   "cell_type": "code",
   "execution_count": 47,
   "id": "571a7208",
   "metadata": {},
   "outputs": [
    {
     "name": "stdout",
     "output_type": "stream",
     "text": [
      "[20 45 70 95]\n"
     ]
    }
   ],
   "source": [
    "print(sam_arr_reshape[:,-1])"
   ]
  },
  {
   "cell_type": "code",
   "execution_count": 48,
   "id": "84ac3c14",
   "metadata": {},
   "outputs": [
    {
     "data": {
      "text/plain": [
       "array([[ 0,  0,  0,  0,  0],\n",
       "       [ 0,  0,  0,  0,  0],\n",
       "       [ 0, 55, 60, 65, 70],\n",
       "       [75, 80, 85, 90, 95]])"
      ]
     },
     "execution_count": 48,
     "metadata": {},
     "output_type": "execute_result"
    }
   ],
   "source": [
    "array_above_50 = np.where(sam_arr_reshape> 50, sam_arr_reshape, 0)\n",
    "array_above_50"
   ]
  },
  {
   "cell_type": "code",
   "execution_count": 49,
   "id": "20bcecec",
   "metadata": {},
   "outputs": [
    {
     "data": {
      "text/plain": [
       "array([55, 60, 65, 70, 75, 80, 85, 90, 95])"
      ]
     },
     "execution_count": 49,
     "metadata": {},
     "output_type": "execute_result"
    }
   ],
   "source": [
    "array_above_50 = sam_arr_reshape[sam_arr_reshape > 50]\n",
    "array_above_50"
   ]
  },
  {
   "cell_type": "code",
   "execution_count": 50,
   "id": "4f4bd44c",
   "metadata": {},
   "outputs": [
    {
     "data": {
      "text/plain": [
       "array([50, 55, 60, 65, 70, 75, 80, 85, 90, 95])"
      ]
     },
     "execution_count": 50,
     "metadata": {},
     "output_type": "execute_result"
    }
   ],
   "source": [
    "array_above_50 = sam_arr_reshape[sam_arr_reshape >= 50]\n",
    "array_above_50"
   ]
  },
  {
   "cell_type": "code",
   "execution_count": 51,
   "id": "2a8b7287",
   "metadata": {},
   "outputs": [
    {
     "name": "stdout",
     "output_type": "stream",
     "text": [
      "[50 60 70 80 90]\n"
     ]
    }
   ],
   "source": [
    "print(array_above_50[0:len(array_above_50):2])"
   ]
  },
  {
   "cell_type": "code",
   "execution_count": 52,
   "id": "47e566aa",
   "metadata": {},
   "outputs": [
    {
     "name": "stdout",
     "output_type": "stream",
     "text": [
      "[[ 0 10 20]\n",
      " [25 35 45]\n",
      " [50 60 70]\n",
      " [75 85 95]]\n"
     ]
    }
   ],
   "source": [
    "print(sam_arr_reshape[:, 0:5:2])"
   ]
  },
  {
   "cell_type": "code",
   "execution_count": 53,
   "id": "21cf400a",
   "metadata": {},
   "outputs": [
    {
     "name": "stdout",
     "output_type": "stream",
     "text": [
      "[[-1 -1 -1 -1 -1]\n",
      " [-1 -1 -1 -1 -1]\n",
      " [-1 55 60 65 70]\n",
      " [75 80 85 90 95]]\n"
     ]
    }
   ],
   "source": [
    "print(np.where(sam_arr_reshape>50, sam_arr_reshape, -1))"
   ]
  },
  {
   "cell_type": "code",
   "execution_count": 54,
   "id": "c39fb79c",
   "metadata": {},
   "outputs": [
    {
     "name": "stdout",
     "output_type": "stream",
     "text": [
      "[[ -1  -1  -1  -1  -1]\n",
      " [ -1  -1  -1  -1  -1]\n",
      " [ -1 110 120 130 140]\n",
      " [150 160 170 180 190]]\n"
     ]
    }
   ],
   "source": [
    "print(np.where(sam_arr_reshape>50, sam_arr_reshape*2, -1))"
   ]
  },
  {
   "cell_type": "code",
   "execution_count": 55,
   "id": "6a3dcf5a",
   "metadata": {},
   "outputs": [],
   "source": [
    "array_b = np.array([[1,1,1,1], [2,2,2,2], [3,3,3,3]])\n",
    "array_c = np.array([0,1,2,3])\n",
    "array_d = np.array([[1], [2], [3]])"
   ]
  }
 ],
 "metadata": {
  "kernelspec": {
   "display_name": "Python 3 (ipykernel)",
   "language": "python",
   "name": "python3"
  },
  "language_info": {
   "codemirror_mode": {
    "name": "ipython",
    "version": 3
   },
   "file_extension": ".py",
   "mimetype": "text/x-python",
   "name": "python",
   "nbconvert_exporter": "python",
   "pygments_lexer": "ipython3",
   "version": "3.9.6"
  }
 },
 "nbformat": 4,
 "nbformat_minor": 5
}
